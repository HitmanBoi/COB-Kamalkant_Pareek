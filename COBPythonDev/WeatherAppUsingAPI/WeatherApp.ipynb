{
 "cells": [
  {
   "cell_type": "code",
   "execution_count": 4,
   "id": "da016413",
   "metadata": {},
   "outputs": [
    {
     "name": "stdout",
     "output_type": "stream",
     "text": [
      "Enter ctyLudhiana\n",
      "The weather in Ludhiana is Clear\n",
      "The temperature in Ludhiana is 70°F\n"
     ]
    }
   ],
   "source": [
    "import requests\n",
    "#source = f\"https://api.openweathermap.org/data/2.5/weather?q={user_input}&units=imperial&APPID={api_key}\"\n",
    "api_key = 'd790574a969ad1cd350bc071369f41e4'\n",
    "\n",
    "user_input = input(\"Enter cty\")\n",
    "\n",
    "weather_data = requests.get(f\"https://api.openweathermap.org/data/2.5/weather?q={user_input}&units=imperial&APPID={api_key}\")\n",
    "\n",
    "if weather_data.json()['cod'] == '404':\n",
    "    print('No City Found')\n",
    "else:\n",
    "    weather = weather_data.json()['weather'][0]['main']\n",
    "    temp = round(weather_data.json()['main']['temp'])\n",
    "    \n",
    "    print(f\"The weather in {user_input} is {weather}\")\n",
    "    print(f\"The temperature in {user_input} is {temp}°F\")"
   ]
  },
  {
   "cell_type": "code",
   "execution_count": null,
   "id": "008eb1c5",
   "metadata": {},
   "outputs": [],
   "source": []
  }
 ],
 "metadata": {
  "kernelspec": {
   "display_name": "Python 3 (ipykernel)",
   "language": "python",
   "name": "python3"
  },
  "language_info": {
   "codemirror_mode": {
    "name": "ipython",
    "version": 3
   },
   "file_extension": ".py",
   "mimetype": "text/x-python",
   "name": "python",
   "nbconvert_exporter": "python",
   "pygments_lexer": "ipython3",
   "version": "3.11.0"
  }
 },
 "nbformat": 4,
 "nbformat_minor": 5
}

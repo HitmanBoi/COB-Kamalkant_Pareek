{
 "cells": [
  {
   "cell_type": "code",
   "execution_count": 10,
   "id": "617dd995",
   "metadata": {},
   "outputs": [
    {
     "name": "stdout",
     "output_type": "stream",
     "text": [
      "['my', 'name', 'is', 'kamalkant', 'pareek', '', 'i', 'am', 'pursuing', 'btech', 'degree', 'from', 'ct', 'university', '', 'my', 'university', 'is', 'also', 'providing', 'collaborated', 'certifications', 'through', 'ibm', '', 'i', 'have', 'completed', '2', 'years', 'in', 'my', 'degree', 'and', 'i', 'have', 'learnt', 'to', 'use', 'tools', 'like', 'ibm', 'cognos', '', 'ibm', 'blockchain', 'platform', '', 'blockchain', 'through', 'interenshala', '', 'blockchain', 'through', 'crewsphere', 'i', 'know', 'intermdiate', 'level', 'of', 'python', 'programming', 'language']\n",
      "                  6\n",
      "i                 4\n",
      "my                3\n",
      "ibm               3\n",
      "through           3\n",
      "blockchain        3\n",
      "is                2\n",
      "have              2\n",
      "degree            2\n",
      "university        2\n",
      "platform          1\n",
      "use               1\n",
      "tools             1\n",
      "like              1\n",
      "cognos            1\n",
      "crewsphere        1\n",
      "interenshala      1\n",
      "learnt            1\n",
      "know              1\n",
      "intermdiate       1\n",
      "level             1\n",
      "of                1\n",
      "python            1\n",
      "programming       1\n",
      "to                1\n",
      "completed         1\n",
      "and               1\n",
      "ct                1\n",
      "kamalkant         1\n",
      "pareek            1\n",
      "am                1\n",
      "pursuing          1\n",
      "btech             1\n",
      "from              1\n",
      "also              1\n",
      "in                1\n",
      "providing         1\n",
      "collaborated      1\n",
      "certifications    1\n",
      "name              1\n",
      "2                 1\n",
      "years             1\n",
      "language          1\n",
      "Name: Text, dtype: int64\n"
     ]
    }
   ],
   "source": [
    "import pandas as pd\n",
    "words=[]\n",
    "file = open(\"data.txt\",\"r\")\n",
    "\n",
    "for line in file:\n",
    "    string=line.lower().replace(',','').replace('.','').split(\" \")\n",
    "    for s in string:\n",
    "        words.append(s)\n",
    "print(words)\n",
    "\n",
    "Unique1=pd.Series(words)\n",
    "#print(Unique1)\n",
    "\n",
    "df=Unique1.to_frame(\"Text\")\n",
    "#print(df)\n",
    "\n",
    "print(pd.value_counts(df[\"Text\"]))\n",
    "file.close()"
   ]
  },
  {
   "cell_type": "code",
   "execution_count": null,
   "id": "52f6b95e",
   "metadata": {},
   "outputs": [],
   "source": []
  },
  {
   "cell_type": "code",
   "execution_count": null,
   "id": "f6f3ceda",
   "metadata": {},
   "outputs": [],
   "source": []
  }
 ],
 "metadata": {
  "kernelspec": {
   "display_name": "Python 3 (ipykernel)",
   "language": "python",
   "name": "python3"
  },
  "language_info": {
   "codemirror_mode": {
    "name": "ipython",
    "version": 3
   },
   "file_extension": ".py",
   "mimetype": "text/x-python",
   "name": "python",
   "nbconvert_exporter": "python",
   "pygments_lexer": "ipython3",
   "version": "3.11.0"
  }
 },
 "nbformat": 4,
 "nbformat_minor": 5
}
